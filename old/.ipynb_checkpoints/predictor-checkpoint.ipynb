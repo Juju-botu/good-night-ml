{
 "cells": [
  {
   "cell_type": "markdown",
   "metadata": {},
   "source": [
    "# Time series predictor"
   ]
  },
  {
   "cell_type": "code",
   "execution_count": 35,
   "metadata": {},
   "outputs": [],
   "source": [
    "import numpy as np\n",
    "import time\n",
    "from datetime import date\n",
    "import csv\n",
    "import holidays # for importing the public holidays\n",
    "import re\n",
    "\n",
    "bologna_holidays = holidays.Italy(prov='BO') # Get the holidays in Bologna, Italy :)"
   ]
  },
  {
   "cell_type": "code",
   "execution_count": 36,
   "metadata": {},
   "outputs": [],
   "source": [
    "# Variables\n",
    "data_dir = \"data\"\n",
    "dataset = \"data/LastSeenDataset.csv\""
   ]
  },
  {
   "cell_type": "markdown",
   "metadata": {},
   "source": [
    "- Feature extraction: we first extract the features given the time series data of Telegram accesses.\n",
    "- Supposition: last Telegram access in very similar to the time the person goes to sleep"
   ]
  },
  {
   "cell_type": "markdown",
   "metadata": {},
   "source": [
    "## Features\n",
    "Possible features to extract: \n",
    "1. Last seen time (arguably the most important)\n",
    "2. Wake up time\n",
    "3. Number of Telegram accesses during the previous day\n",
    "4. Day of the week\n",
    "5. Public holiday presence in the following day (using the holidays library)\n",
    "6. (time spent on Telegram)\n"
   ]
  },
  {
   "cell_type": "markdown",
   "metadata": {},
   "source": []
  },
  {
   "cell_type": "code",
   "execution_count": 45,
   "metadata": {},
   "outputs": [
    {
     "data": {
      "text/plain": [
       "\"\\nWe don't need these functions since we have already converte\\ndef date_time_separate(data):\\n    for i in range(len(data)):\\n        d = (re.split(' ', str(data[i][0]))[0])\\n        #d = d.split('-')\\n        t = (re.split(' ', str(data[i][0]))[1])\\n        #t = t.split(':')\\n        data[i] = [d, t]\\n    return data\\n\\ndef singe_value_split(data):\\n    for i in range(len(data)):\\n        d = (re.split(' ', str(data[i][0]))[0])\\n        d = d.split('-')\\n        t = (re.split(' ', str(data[i][0]))[1])\\n        t = t.split(':')\\n        data[i] = [d, t]\\n    return data\\n\""
      ]
     },
     "execution_count": 45,
     "metadata": {},
     "output_type": "execute_result"
    }
   ],
   "source": [
    "## OLD FUNCTIONS\n",
    "'''\n",
    "We don't need these functions since we have already converte\n",
    "def date_time_separate(data):\n",
    "    for i in range(len(data)):\n",
    "        d = (re.split(' ', str(data[i][0]))[0])\n",
    "        #d = d.split('-')\n",
    "        t = (re.split(' ', str(data[i][0]))[1])\n",
    "        #t = t.split(':')\n",
    "        data[i] = [d, t]\n",
    "    return data\n",
    "\n",
    "def singe_value_split(data):\n",
    "    for i in range(len(data)):\n",
    "        d = (re.split(' ', str(data[i][0]))[0])\n",
    "        d = d.split('-')\n",
    "        t = (re.split(' ', str(data[i][0]))[1])\n",
    "        t = t.split(':')\n",
    "        data[i] = [d, t]\n",
    "    return data\n",
    "'''\n"
   ]
  },
  {
   "cell_type": "code",
   "execution_count": 82,
   "metadata": {},
   "outputs": [
    {
     "name": "stdout",
     "output_type": "stream",
     "text": [
      "False\n",
      "2020\n"
     ]
    }
   ],
   "source": [
    "with open(dataset, newline='') as csvfile:\n",
    "    date_list = list(csv.reader(csvfile))\n",
    "\n",
    "# Transform all the elements in the dataset into date objects and sort them\n",
    "def convert_to_dates(dates):\n",
    "    for i in range(len(dates)):\n",
    "        dates[i][0] = datetime.datetime.strptime(dates[i][0], \"%Y-%m-%d %H:%M:%S\" ) \n",
    "    return sorted(dates)\n",
    "\n",
    "date_list = convert_to_dates(date_list)\n",
    "\n",
    "print(date_list[0][0] in bologna_holidays)\n",
    "\n",
    "print(date_list[0][0].year)\n",
    "#print(date_list)"
   ]
  },
  {
   "cell_type": "code",
   "execution_count": 181,
   "metadata": {},
   "outputs": [
    {
     "name": "stdout",
     "output_type": "stream",
     "text": [
      "Fall asleep time:  []\n",
      "Wake up time:  []\n",
      "Time slept (seconds):  []\n",
      "Day of the week (from 1 = Monday):  []\n",
      "Holiday presence:  []\n",
      "Number of accesses  []\n"
     ]
    }
   ],
   "source": [
    "# Detect last seen time at night\n",
    "\n",
    "fall_asleep = []\n",
    "wake_up = []\n",
    "time_slept = []\n",
    "day_of_week = []\n",
    "holiday_presence = []\n",
    "num_accesses = []\n",
    "\n",
    "# Last seen during this time will be considered as last seen time\n",
    "# BEWARE: cannot detect times out of this range\n",
    "MIN_H, MIN_M, MIN_S = 21, 0, 0\n",
    "MAX_H, MAX_M, MAX_S = 5, 0, 0\n",
    "\n",
    "## Suppose detection started before MIN_HOUR\n",
    "# Initialize\n",
    "min_asleep_time = date_list[0][0]\n",
    "min_asleep_time = min_asleep_time.replace(hour= MIN_H, minute= MIN_M, second= MIN_S)\n",
    "max_asleep_time = date_list[0][0]\n",
    "max_asleep_time = max_asleep_time.replace(day= date_list[0][0].day +1, hour= MAX_H, minute= MAX_M, second= MAX_S)\n",
    "# max_t = min_asleep_time\n",
    "# m_fall_asleep_time.hour, min_asleep_time.min, min_asleep_time.second = MIN_H, MIN_M, MIN_S\n",
    "\n",
    "saved = True\n",
    "n_accesses = 0 # initialize to 0 the counter for number of status changes\n",
    "\n",
    "for i in range(len(date_list)):\n",
    "    # If time is a candidate for falling asleep (=good night) then save it\n",
    "    d = date_list[i][0]\n",
    "    if d > min_asleep_time and d < max_asleep_time:\n",
    "        sleeptime = d # save this time\n",
    "        save = False\n",
    "    else:\n",
    "        if not saved:\n",
    "            # We save all the data in one single time so not to create mismatches\n",
    "            # Update indexes every first Telegram access in the morning\n",
    "            min_asleep_time = d.replace(hour= MIN_H, minute= MIN_M, second= MIN_S)\n",
    "            max_asleep_time = d.replace(day= d.day + 1, hour= MAX_H, minute= MAX_M, second= MAX_S)\n",
    "            fall_asleep.append(sleeptime)\n",
    "            wake_up.append(d)\n",
    "            time_slept.append(d - sleeptime)\n",
    "            day_of_week.append(d.weekday())\n",
    "            holiday_presence(d in bologna_holidays)\n",
    "            num_accesses.append(n_accesses)\n",
    "            saved = True\n",
    "            n_accesses = 0\n",
    "    n_accesses += 1 # increase counter for every different last seen ~ number of accesses\n",
    "            \n",
    "print(\"Fall asleep time: \", fall_asleep)\n",
    "print(\"Wake up time: \", wake_up)\n",
    "print(\"Time slept (seconds): \", time_slept)\n",
    "print(\"Day of the week (from 1 = Monday): \", day_of_week)\n",
    "print(\"Holiday presence: \", holiday_presence)\n",
    "print(\"Number of accesses \", num_accesses)"
   ]
  },
  {
   "cell_type": "code",
   "execution_count": null,
   "metadata": {},
   "outputs": [],
   "source": []
  },
  {
   "cell_type": "code",
   "execution_count": null,
   "metadata": {},
   "outputs": [],
   "source": []
  },
  {
   "cell_type": "markdown",
   "metadata": {},
   "source": [
    "## Model\n",
    "- Time series data, so possible idea(s):\n",
    "    - LSTM"
   ]
  }
 ],
 "metadata": {
  "kernelspec": {
   "display_name": "Python 3",
   "language": "python",
   "name": "python3"
  },
  "language_info": {
   "codemirror_mode": {
    "name": "ipython",
    "version": 3
   },
   "file_extension": ".py",
   "mimetype": "text/x-python",
   "name": "python",
   "nbconvert_exporter": "python",
   "pygments_lexer": "ipython3",
   "version": "3.8.5"
  }
 },
 "nbformat": 4,
 "nbformat_minor": 4
}
