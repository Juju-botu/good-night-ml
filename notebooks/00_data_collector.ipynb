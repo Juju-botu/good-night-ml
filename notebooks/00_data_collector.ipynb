{
 "cells": [
  {
   "cell_type": "markdown",
   "metadata": {},
   "source": [
    "# Good Night Machine Learning\n",
    "Telegram autosender learning when to send a good night message to your loved one(s)"
   ]
  },
  {
   "cell_type": "code",
   "execution_count": 2,
   "metadata": {},
   "outputs": [],
   "source": [
    "from pytg import Telegram\n",
    "import json\n",
    "import logging # Useful for debugging\n",
    "import numpy as np\n",
    "from pytg.sender import Sender\n",
    "from pytg.receiver import Receiver\n",
    "import time\n",
    "import csv\n",
    "import os\n",
    "\n",
    "logging.basicConfig(filename='logs/telegram-cli.log', filemode='a', level=logging.DEBUG)\n",
    "good_nighter = \"Eleonora_Morselli\" # User to send the good night wishes to\n",
    "data_dir = \"data\"\n",
    "dataset = \"data/LastSeenDataset.csv\"\n",
    "\n",
    "# Configuration\n",
    "polling_time = 60.0 # Seconds"
   ]
  },
  {
   "cell_type": "markdown",
   "metadata": {},
   "source": [
    "## Telegram setup"
   ]
  },
  {
   "cell_type": "code",
   "execution_count": 3,
   "metadata": {},
   "outputs": [
    {
     "name": "stderr",
     "output_type": "stream",
     "text": [
      "INFO:pytg:Starting Telegram Executable: \"/usr/bin/telegram-cli -R -W -P 4458 -k /home/fedebotu/tg/server.pub --json --permanent-peer-ids --permanent-peer-ids\"\n",
      "DEBUG:pytg.sender:Parsing raw: Argument help - <command> (needed)\n",
      "DEBUG:pytg.sender:Sending command >[disable_preview]  help\n",
      "<\n",
      "DEBUG:pytg.sender:Socket Connected.\n",
      "DEBUG:pytg.sender:All Sent.\n",
      "INFO:pytg:CLI available.\n"
     ]
    }
   ],
   "source": [
    "'''\n",
    "Ubuntu instructions:\n",
    "Do not install via snap; it won't work. Install via:\n",
    "sudo apt install telegram-cli\n",
    "'''\n",
    "tg = Telegram(\n",
    "\ttelegram=\"/usr/bin/telegram-cli\", \n",
    "\tpubkey_file=\"/home/fedebotu/tg/server.pub\")"
   ]
  },
  {
   "cell_type": "code",
   "execution_count": null,
   "metadata": {},
   "outputs": [],
   "source": []
  },
  {
   "cell_type": "code",
   "execution_count": 4,
   "metadata": {},
   "outputs": [
    {
     "name": "stderr",
     "output_type": "stream",
     "text": [
      "DEBUG:pytg.sender:Parsing send_msg: Argument Federico_Berto - <peer> (needed)\n",
      "DEBUG:pytg.sender:Parsing send_msg: Argument Hello World! - <text> (needed)\n",
      "DEBUG:pytg.sender:Sending command >[disable_preview] msg Federico_Berto 'Hello World!'\n",
      "<\n",
      "DEBUG:pytg.sender:Socket Connected.\n",
      "DEBUG:pytg.sender:All Sent.\n"
     ]
    },
    {
     "data": {
      "text/plain": [
       "True"
      ]
     },
     "execution_count": 4,
     "metadata": {},
     "output_type": "execute_result"
    }
   ],
   "source": [
    "receiver = Receiver(host=\"localhost\", port=4458)\n",
    "sender = Sender(host=\"localhost\", port=4458)\n",
    "#Test\n",
    "sender.send_msg(\"Federico_Berto\", \"Hello World!\")"
   ]
  },
  {
   "cell_type": "code",
   "execution_count": 5,
   "metadata": {},
   "outputs": [
    {
     "name": "stderr",
     "output_type": "stream",
     "text": [
      "DEBUG:pytg.sender:Parsing user_info: Argument Eleonora_Morselli - <user> (needed)\n",
      "DEBUG:pytg.sender:Sending command >[disable_preview] user_info Eleonora_Morselli\n",
      "<\n",
      "DEBUG:pytg.sender:Socket Connected.\n",
      "DEBUG:pytg.sender:All Sent.\n"
     ]
    },
    {
     "name": "stdout",
     "output_type": "stream",
     "text": [
      "['2020-10-18 17:38:43']\n",
      "Directory  data  already exists. Skipping...\n"
     ]
    },
    {
     "data": {
      "text/plain": [
       "\"\\nwith open(dataset,'a') as file:\\n    writer = csv.writer(file)\\n    writer.writerow([str(last_seen[-1])])\\n\""
      ]
     },
     "execution_count": 5,
     "metadata": {},
     "output_type": "execute_result"
    }
   ],
   "source": [
    "last_seen = []\n",
    "last_seen.append(sender.user_info(good_nighter).when) # Dict Object: parsing via\n",
    "print(last_seen)\n",
    "try:\n",
    "    os.makedirs(data_dir)   \n",
    "    print(\"Directory \" , data_dir ,  \" Created \")\n",
    "except FileExistsError:\n",
    "    print(\"Directory \" , data_dir ,  \" already exists. Skipping...\")\n",
    "    \n",
    "if not os.path.exists(dataset):\n",
    "    with open(dataset, 'w'):\n",
    "        pass\n",
    "'''\n",
    "with open(dataset,'a') as file:\n",
    "    writer = csv.writer(file)\n",
    "    writer.writerow([str(last_seen[-1])])\n",
    "'''"
   ]
  },
  {
   "cell_type": "code",
   "execution_count": 7,
   "metadata": {},
   "outputs": [
    {
     "name": "stderr",
     "output_type": "stream",
     "text": [
      "DEBUG:pytg.sender:Parsing user_info: Argument Eleonora_Morselli - <user> (needed)\n",
      "DEBUG:pytg.sender:Sending command >[disable_preview] user_info Eleonora_Morselli\n",
      "<\n",
      "DEBUG:pytg.sender:Socket Connected.\n",
      "DEBUG:pytg.sender:All Sent.\n"
     ]
    },
    {
     "name": "stdout",
     "output_type": "stream",
     "text": [
      "Starting main loop...\n"
     ]
    },
    {
     "ename": "KeyboardInterrupt",
     "evalue": "",
     "output_type": "error",
     "traceback": [
      "\u001b[0;31m---------------------------------------------------------------------------\u001b[0m",
      "\u001b[0;31mKeyboardInterrupt\u001b[0m                         Traceback (most recent call last)",
      "\u001b[0;32m<ipython-input-7-b2f34b56a938>\u001b[0m in \u001b[0;36m<module>\u001b[0;34m\u001b[0m\n\u001b[1;32m     18\u001b[0m         \u001b[0mprint\u001b[0m\u001b[0;34m(\u001b[0m\u001b[0;34m\"Last seen: \"\u001b[0m\u001b[0;34m,\u001b[0m \u001b[0mlast_seen\u001b[0m\u001b[0;34m)\u001b[0m\u001b[0;34m\u001b[0m\u001b[0;34m\u001b[0m\u001b[0m\n\u001b[1;32m     19\u001b[0m     \u001b[0;31m# Use sleep function instead of an if so to avoid useless CPU runtime consumption\u001b[0m\u001b[0;34m\u001b[0m\u001b[0;34m\u001b[0m\u001b[0;34m\u001b[0m\u001b[0m\n\u001b[0;32m---> 20\u001b[0;31m     \u001b[0mtime\u001b[0m\u001b[0;34m.\u001b[0m\u001b[0msleep\u001b[0m\u001b[0;34m(\u001b[0m\u001b[0mpolling_time\u001b[0m\u001b[0;34m)\u001b[0m\u001b[0;34m\u001b[0m\u001b[0;34m\u001b[0m\u001b[0m\n\u001b[0m",
      "\u001b[0;31mKeyboardInterrupt\u001b[0m: "
     ]
    }
   ],
   "source": [
    "# Main loop for data collection\n",
    "#last = time.time()\n",
    "# print(last)\n",
    "print(\"Starting main loop...\")\n",
    "while True:\n",
    "    '''import os\n",
    "\n",
    "   if time.time() - last > polling_time: # Polling only in a certain interval of time\n",
    "    '''\n",
    "    last = time.time()\n",
    "    datum = sender.user_info(good_nighter).when # DictObject: parsing via dot structure\n",
    "    # If the last seen is new, store the datum\n",
    "    if last_seen[-1] != datum: \n",
    "        last_seen.append(datum)\n",
    "        with open(dataset,'a') as file:\n",
    "            writer = csv.writer(file)\n",
    "            writer.writerow([str(datum)])\n",
    "        print(\"Last seen: \", last_seen)\n",
    "    # Use sleep function instead of an if so to avoid useless CPU runtime consumption\n",
    "    time.sleep(polling_time) "
   ]
  },
  {
   "cell_type": "code",
   "execution_count": 36,
   "metadata": {},
   "outputs": [
    {
     "data": {
      "text/plain": [
       "1602868647.0187418"
      ]
     },
     "execution_count": 36,
     "metadata": {},
     "output_type": "execute_result"
    }
   ],
   "source": []
  }
 ],
 "metadata": {
  "kernelspec": {
   "display_name": "Python 3",
   "language": "python",
   "name": "python3"
  },
  "language_info": {
   "codemirror_mode": {
    "name": "ipython",
    "version": 3
   },
   "file_extension": ".py",
   "mimetype": "text/x-python",
   "name": "python",
   "nbconvert_exporter": "python",
   "pygments_lexer": "ipython3",
   "version": "3.8.5"
  }
 },
 "nbformat": 4,
 "nbformat_minor": 4
}
