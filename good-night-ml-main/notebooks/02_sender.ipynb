{
 "cells": [
  {
   "cell_type": "code",
   "execution_count": 1,
   "metadata": {},
   "outputs": [],
   "source": [
    "import numpy as np\n",
    "from numpy import array\n",
    "import time\n",
    "from datetime import date\n",
    "import datetime\n",
    "from datetime import timedelta  \n",
    "import csv\n",
    "import holidays # for importing the public holidays\n",
    "import re\n",
    "import torch\n",
    "from statistics import mean\n",
    "import sys; sys.path.append(\"..\")\n",
    "import os\n",
    "from src.utils import *"
   ]
  },
  {
   "cell_type": "markdown",
   "metadata": {},
   "source": [
    "# Sender daemon"
   ]
  },
  {
   "cell_type": "raw",
   "metadata": {},
   "source": [
    "Our goal is now to build a daemon which, given the prediction, will send the good night message at that time or a bit earlier (we can decide to send it earlier to be more confident about the result."
   ]
  },
  {
   "cell_type": "code",
   "execution_count": 2,
   "metadata": {},
   "outputs": [],
   "source": [
    "sent = False # We start giving the false condition for sent\n",
    "advance_time = 30 # Minutes we send the message in advance with respect to the\n",
    "                  # prediction for being safer the receiver will get the goodnight promptly"
   ]
  },
  {
   "cell_type": "markdown",
   "metadata": {},
   "source": [
    "Open up the prediction"
   ]
  },
  {
   "cell_type": "code",
   "execution_count": 3,
   "metadata": {},
   "outputs": [
    {
     "name": "stdout",
     "output_type": "stream",
     "text": [
      "2020-11-12 22:59:20\n"
     ]
    }
   ],
   "source": [
    "with open('prediction.txt', 'r') as f:\n",
    "    # convert to string\n",
    "    prediction = datetime.datetime.strptime(f.read(), \"%Y-%m-%d %H:%M:%S\\n\" ) \n",
    "f.close()\n",
    "print(prediction)"
   ]
  },
  {
   "cell_type": "markdown",
   "metadata": {},
   "source": [
    "Set up the Telegram account"
   ]
  },
  {
   "cell_type": "code",
   "execution_count": 4,
   "metadata": {},
   "outputs": [],
   "source": [
    "from pytg import Telegram\n",
    "import json\n",
    "import logging # Useful for debugging\n",
    "logging.basicConfig(filename='logs/telegram-cli.log', filemode='a', level=logging.DEBUG)\n",
    "import numpy as np\n",
    "from pytg.sender import Sender\n",
    "from pytg.receiver import Receiver"
   ]
  },
  {
   "cell_type": "code",
   "execution_count": 5,
   "metadata": {},
   "outputs": [],
   "source": [
    "good_nighter = \"Eleonora_Morselli\" # User to send the good night wishes to"
   ]
  },
  {
   "cell_type": "code",
   "execution_count": 6,
   "metadata": {},
   "outputs": [],
   "source": [
    "'''\n",
    "Ubuntu instructions:\n",
    "Do not install via snap; it won't work. Install via:\n",
    "sudo apt install telegram-cli\n",
    "'''\n",
    "tg = Telegram(\n",
    "\ttelegram=\"/usr/bin/telegram-cli\", \n",
    "\tpubkey_file=\"/home/fedebotu/tg/server.pub\")\n",
    "receiver = Receiver(host=\"localhost\", port=4458)\n",
    "sender = Sender(host=\"localhost\", port=4458)"
   ]
  },
  {
   "cell_type": "code",
   "execution_count": 7,
   "metadata": {},
   "outputs": [
    {
     "name": "stdout",
     "output_type": "stream",
     "text": [
      "Solo chi sogna può volare. Buonanotte Doda 😘\n",
      "\n"
     ]
    }
   ],
   "source": [
    "\"\"\"\n",
    "We read the messages and store them in an array. UTF-8\n",
    "encoding is important for including emojis\n",
    "\"\"\"\n",
    "\n",
    "messages = []\n",
    "for m in enumerate(open('data/messages.txt', 'r', encoding='utf-8')):\n",
    "    messages.append(m[1])\n",
    "f.close()\n",
    "\n",
    "print(messages[0]) # test"
   ]
  },
  {
   "cell_type": "code",
   "execution_count": null,
   "metadata": {},
   "outputs": [],
   "source": []
  },
  {
   "cell_type": "code",
   "execution_count": 8,
   "metadata": {},
   "outputs": [
    {
     "name": "stdout",
     "output_type": "stream",
     "text": [
      "Meglio dormire libero in un letto scomodo che dormire prigioniero in un letto comodo. Notte 🌃\n"
     ]
    }
   ],
   "source": [
    "message = choose_message(messages)\n",
    "print(message)"
   ]
  },
  {
   "cell_type": "code",
   "execution_count": 9,
   "metadata": {},
   "outputs": [
    {
     "name": "stdout",
     "output_type": "stream",
     "text": [
      "Message has been sent\n"
     ]
    }
   ],
   "source": [
    "'''If we pass the prediction time, then we send a message and wait until the next prediction has come out '''\n",
    "if(not sent and prediction < (datetime.datetime.now() - timedelta(minutes=advance_time))):\n",
    "    sender.send_msg(\"Federico_Berto\", choose_message(messages)) # To be substituted with the good nighter\n",
    "    sent = True\n",
    "    print(\"Message has been sent\")"
   ]
  },
  {
   "cell_type": "code",
   "execution_count": null,
   "metadata": {},
   "outputs": [],
   "source": []
  }
 ],
 "metadata": {
  "kernelspec": {
   "display_name": "Python 3",
   "language": "python",
   "name": "python3"
  },
  "language_info": {
   "codemirror_mode": {
    "name": "ipython",
    "version": 3
   },
   "file_extension": ".py",
   "mimetype": "text/x-python",
   "name": "python",
   "nbconvert_exporter": "python",
   "pygments_lexer": "ipython3",
   "version": "3.8.5"
  }
 },
 "nbformat": 4,
 "nbformat_minor": 4
}
